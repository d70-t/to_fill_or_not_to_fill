{
 "cells": [
  {
   "cell_type": "markdown",
   "id": "excited-joyce",
   "metadata": {},
   "source": [
    "The test dataset contains four cloud detection categories:\n",
    "\n",
    "| category           | count | relative |\n",
    "| ------------------ | ----- | -------- |\n",
    "| unknown            |     4 | 28.6%    |\n",
    "| cloud_free         |     2 | 14.3%    |\n",
    "| probably_cloudy    |     3 | 21.4%    |\n",
    "| most_likely_cloudy |     5 | 35.7%    |\n",
    "\n",
    "Note that the relative counts don't correspond to cloud fractions as the undefined values should not be taken into account for the computation of cloud fractions.\n",
    "\n",
    "The true cloud fractions are:\n",
    "* `probably_cloudy`: 30%\n",
    "* `most_likely_cloudy`: 50%\n",
    "* total (any of the two): 80%"
   ]
  },
  {
   "cell_type": "code",
   "execution_count": 1,
   "id": "short-chicken",
   "metadata": {
    "scrolled": false
   },
   "outputs": [
    {
     "data": {
      "text/plain": [
       "14-element Array{Int16,1}:\n",
       " -1\n",
       "  0\n",
       "  1\n",
       "  2\n",
       "  1\n",
       "  2\n",
       "  0\n",
       "  1\n",
       "  2\n",
       "  2\n",
       " -1\n",
       " -1\n",
       " -1\n",
       "  2"
      ]
     },
     "execution_count": 1,
     "metadata": {},
     "output_type": "execute_result"
    }
   ],
   "source": [
    "using NCDatasets\n",
    "using Statistics\n",
    "ds = Dataset(\"test_cloud_flag_nofill.nc\")\n",
    "collect(ds[\"cloud_flag\"])"
   ]
  },
  {
   "cell_type": "markdown",
   "id": "accurate-passage",
   "metadata": {},
   "source": [
    "The variable is an `Int16` :-)"
   ]
  },
  {
   "cell_type": "markdown",
   "id": "attached-figure",
   "metadata": {},
   "source": [
    "# Mean cloudiness\n",
    "This one is obviously wrong as the flag is not intended to be used as a numeric value:"
   ]
  },
  {
   "cell_type": "code",
   "execution_count": 2,
   "id": "collaborative-silicon",
   "metadata": {},
   "outputs": [
    {
     "data": {
      "text/plain": [
       "0.6428571428571429"
      ]
     },
     "execution_count": 2,
     "metadata": {},
     "output_type": "execute_result"
    }
   ],
   "source": [
    "mean(ds[\"cloud_flag\"])"
   ]
  },
  {
   "cell_type": "markdown",
   "id": "prompt-tracker",
   "metadata": {},
   "source": [
    "... wrong, but we knew that.\n",
    "\n",
    "Let's have a look at the meanings:"
   ]
  },
  {
   "cell_type": "code",
   "execution_count": 3,
   "id": "divine-interview",
   "metadata": {},
   "outputs": [
    {
     "data": {
      "text/plain": [
       "Dict{SubString{String},Int16} with 4 entries:\n",
       "  \"most_likely_cloudy\" => 2\n",
       "  \"unknown\"            => -1\n",
       "  \"cloud_free\"         => 0\n",
       "  \"probably_cloudy\"    => 1"
      ]
     },
     "execution_count": 3,
     "metadata": {},
     "output_type": "execute_result"
    }
   ],
   "source": [
    "meanings = Dict(zip(split(ds[\"cloud_flag\"].attrib[\"flag_meanings\"]), ds[\"cloud_flag\"].attrib[\"flag_values\"]))"
   ]
  },
  {
   "cell_type": "markdown",
   "id": "beneficial-costa",
   "metadata": {},
   "source": [
    "Perfect, there are four classes. Let's check the cloud fraction:"
   ]
  },
  {
   "cell_type": "code",
   "execution_count": 4,
   "id": "tested-chain",
   "metadata": {},
   "outputs": [
    {
     "data": {
      "text/plain": [
       "0.35714285714285715"
      ]
     },
     "execution_count": 4,
     "metadata": {},
     "output_type": "execute_result"
    }
   ],
   "source": [
    "mean(ds[\"cloud_flag\"] .== meanings[\"most_likely_cloudy\"])"
   ]
  },
  {
   "cell_type": "markdown",
   "id": "assumed-biodiversity",
   "metadata": {},
   "source": [
    "Hmm, that is not nice...\n",
    "\n",
    "Ok, lets go check all of those flags individually:"
   ]
  },
  {
   "cell_type": "code",
   "execution_count": 5,
   "id": "hollywood-indian",
   "metadata": {},
   "outputs": [
    {
     "data": {
      "text/plain": [
       "0.5"
      ]
     },
     "execution_count": 5,
     "metadata": {},
     "output_type": "execute_result"
    }
   ],
   "source": [
    "sum(ds[\"cloud_flag\"] .== meanings[\"most_likely_cloudy\"]) /\n",
    "sum([x ⊆ [meanings[m] for m in [\"most_likely_cloudy\", \"probably_cloudy\", \"cloud_free\"]] for x in ds[\"cloud_flag\"]])"
   ]
  },
  {
   "cell_type": "markdown",
   "id": "packed-print",
   "metadata": {},
   "source": [
    "Ok, at least now, we get the right number :-)"
   ]
  },
  {
   "cell_type": "markdown",
   "id": "documentary-girlfriend",
   "metadata": {},
   "source": [
    "# how does the data look without thinking about it?"
   ]
  },
  {
   "cell_type": "code",
   "execution_count": 6,
   "id": "rotary-screening",
   "metadata": {},
   "outputs": [
    {
     "data": {
      "image/svg+xml": [
       "<?xml version=\"1.0\" encoding=\"utf-8\"?>\n",
       "<svg xmlns=\"http://www.w3.org/2000/svg\" xmlns:xlink=\"http://www.w3.org/1999/xlink\" width=\"600\" height=\"400\" viewBox=\"0 0 2400 1600\">\n",
       "<defs>\n",
       "  <clipPath id=\"clip920\">\n",
       "    <rect x=\"0\" y=\"0\" width=\"2400\" height=\"1600\"/>\n",
       "  </clipPath>\n",
       "</defs>\n",
       "<path clip-path=\"url(#clip920)\" d=\"\n",
       "M0 1600 L2400 1600 L2400 0 L0 0  Z\n",
       "  \" fill=\"#ffffff\" fill-rule=\"evenodd\" fill-opacity=\"1\"/>\n",
       "<defs>\n",
       "  <clipPath id=\"clip921\">\n",
       "    <rect x=\"480\" y=\"0\" width=\"1681\" height=\"1600\"/>\n",
       "  </clipPath>\n",
       "</defs>\n",
       "<path clip-path=\"url(#clip920)\" d=\"\n",
       "M112.177 1486.45 L2352.76 1486.45 L2352.76 47.2441 L112.177 47.2441  Z\n",
       "  \" fill=\"#ffffff\" fill-rule=\"evenodd\" fill-opacity=\"1\"/>\n",
       "<defs>\n",
       "  <clipPath id=\"clip922\">\n",
       "    <rect x=\"112\" y=\"47\" width=\"2242\" height=\"1440\"/>\n",
       "  </clipPath>\n",
       "</defs>\n",
       "<polyline clip-path=\"url(#clip922)\" style=\"stroke:#000000; stroke-width:2; stroke-opacity:0.1; fill:none\" points=\"\n",
       "  235.413,1486.45 235.413,47.2441 \n",
       "  \"/>\n",
       "<polyline clip-path=\"url(#clip922)\" style=\"stroke:#000000; stroke-width:2; stroke-opacity:0.1; fill:none\" points=\"\n",
       "  567.764,1486.45 567.764,47.2441 \n",
       "  \"/>\n",
       "<polyline clip-path=\"url(#clip922)\" style=\"stroke:#000000; stroke-width:2; stroke-opacity:0.1; fill:none\" points=\"\n",
       "  900.115,1486.45 900.115,47.2441 \n",
       "  \"/>\n",
       "<polyline clip-path=\"url(#clip922)\" style=\"stroke:#000000; stroke-width:2; stroke-opacity:0.1; fill:none\" points=\"\n",
       "  1232.47,1486.45 1232.47,47.2441 \n",
       "  \"/>\n",
       "<polyline clip-path=\"url(#clip922)\" style=\"stroke:#000000; stroke-width:2; stroke-opacity:0.1; fill:none\" points=\"\n",
       "  1564.82,1486.45 1564.82,47.2441 \n",
       "  \"/>\n",
       "<polyline clip-path=\"url(#clip922)\" style=\"stroke:#000000; stroke-width:2; stroke-opacity:0.1; fill:none\" points=\"\n",
       "  1897.17,1486.45 1897.17,47.2441 \n",
       "  \"/>\n",
       "<polyline clip-path=\"url(#clip922)\" style=\"stroke:#000000; stroke-width:2; stroke-opacity:0.1; fill:none\" points=\"\n",
       "  2229.52,1486.45 2229.52,47.2441 \n",
       "  \"/>\n",
       "<polyline clip-path=\"url(#clip920)\" style=\"stroke:#000000; stroke-width:4; stroke-opacity:1; fill:none\" points=\"\n",
       "  112.177,1486.45 2352.76,1486.45 \n",
       "  \"/>\n",
       "<polyline clip-path=\"url(#clip920)\" style=\"stroke:#000000; stroke-width:4; stroke-opacity:1; fill:none\" points=\"\n",
       "  235.413,1486.45 235.413,1469.18 \n",
       "  \"/>\n",
       "<polyline clip-path=\"url(#clip920)\" style=\"stroke:#000000; stroke-width:4; stroke-opacity:1; fill:none\" points=\"\n",
       "  567.764,1486.45 567.764,1469.18 \n",
       "  \"/>\n",
       "<polyline clip-path=\"url(#clip920)\" style=\"stroke:#000000; stroke-width:4; stroke-opacity:1; fill:none\" points=\"\n",
       "  900.115,1486.45 900.115,1469.18 \n",
       "  \"/>\n",
       "<polyline clip-path=\"url(#clip920)\" style=\"stroke:#000000; stroke-width:4; stroke-opacity:1; fill:none\" points=\"\n",
       "  1232.47,1486.45 1232.47,1469.18 \n",
       "  \"/>\n",
       "<polyline clip-path=\"url(#clip920)\" style=\"stroke:#000000; stroke-width:4; stroke-opacity:1; fill:none\" points=\"\n",
       "  1564.82,1486.45 1564.82,1469.18 \n",
       "  \"/>\n",
       "<polyline clip-path=\"url(#clip920)\" style=\"stroke:#000000; stroke-width:4; stroke-opacity:1; fill:none\" points=\"\n",
       "  1897.17,1486.45 1897.17,1469.18 \n",
       "  \"/>\n",
       "<polyline clip-path=\"url(#clip920)\" style=\"stroke:#000000; stroke-width:4; stroke-opacity:1; fill:none\" points=\"\n",
       "  2229.52,1486.45 2229.52,1469.18 \n",
       "  \"/>\n",
       "<path clip-path=\"url(#clip920)\" d=\"M 0 0 M207.867 1530.29 L237.543 1530.29 L237.543 1534.23 L207.867 1534.23 L207.867 1530.29 Z\" fill=\"#000000\" fill-rule=\"evenodd\" fill-opacity=\"1\" /><path clip-path=\"url(#clip920)\" d=\"M 0 0 M246.64 1543.18 L262.959 1543.18 L262.959 1547.12 L241.015 1547.12 L241.015 1543.18 Q243.677 1540.43 248.26 1535.8 Q252.867 1531.15 254.047 1529.81 Q256.293 1527.28 257.172 1525.55 Q258.075 1523.79 258.075 1522.1 Q258.075 1519.34 256.13 1517.61 Q254.209 1515.87 251.107 1515.87 Q248.908 1515.87 246.455 1516.63 Q244.024 1517.4 241.246 1518.95 L241.246 1514.23 Q244.07 1513.09 246.524 1512.51 Q248.978 1511.93 251.015 1511.93 Q256.385 1511.93 259.58 1514.62 Q262.774 1517.31 262.774 1521.8 Q262.774 1523.93 261.964 1525.85 Q261.177 1527.74 259.07 1530.34 Q258.492 1531.01 255.39 1534.23 Q252.288 1537.42 246.64 1543.18 Z\" fill=\"#000000\" fill-rule=\"evenodd\" fill-opacity=\"1\" /><path clip-path=\"url(#clip920)\" d=\"M 0 0 M540.033 1530.29 L569.709 1530.29 L569.709 1534.23 L540.033 1534.23 L540.033 1530.29 Z\" fill=\"#000000\" fill-rule=\"evenodd\" fill-opacity=\"1\" /><path clip-path=\"url(#clip920)\" d=\"M 0 0 M575.588 1543.18 L583.227 1543.18 L583.227 1516.82 L574.917 1518.49 L574.917 1514.23 L583.181 1512.56 L587.857 1512.56 L587.857 1543.18 L595.496 1543.18 L595.496 1547.12 L575.588 1547.12 L575.588 1543.18 Z\" fill=\"#000000\" fill-rule=\"evenodd\" fill-opacity=\"1\" /><path clip-path=\"url(#clip920)\" d=\"M 0 0 M900.115 1515.64 Q896.504 1515.64 894.676 1519.2 Q892.87 1522.75 892.87 1529.87 Q892.87 1536.98 894.676 1540.55 Q896.504 1544.09 900.115 1544.09 Q903.75 1544.09 905.555 1540.55 Q907.384 1536.98 907.384 1529.87 Q907.384 1522.75 905.555 1519.2 Q903.75 1515.64 900.115 1515.64 M900.115 1511.93 Q905.926 1511.93 908.981 1516.54 Q912.06 1521.12 912.06 1529.87 Q912.06 1538.6 908.981 1543.21 Q905.926 1547.79 900.115 1547.79 Q894.305 1547.79 891.227 1543.21 Q888.171 1538.6 888.171 1529.87 Q888.171 1521.12 891.227 1516.54 Q894.305 1511.93 900.115 1511.93 Z\" fill=\"#000000\" fill-rule=\"evenodd\" fill-opacity=\"1\" /><path clip-path=\"url(#clip920)\" d=\"M 0 0 M1222.85 1543.18 L1230.49 1543.18 L1230.49 1516.82 L1222.18 1518.49 L1222.18 1514.23 L1230.44 1512.56 L1235.12 1512.56 L1235.12 1543.18 L1242.76 1543.18 L1242.76 1547.12 L1222.85 1547.12 L1222.85 1543.18 Z\" fill=\"#000000\" fill-rule=\"evenodd\" fill-opacity=\"1\" /><path clip-path=\"url(#clip920)\" d=\"M 0 0 M1559.47 1543.18 L1575.79 1543.18 L1575.79 1547.12 L1553.85 1547.12 L1553.85 1543.18 Q1556.51 1540.43 1561.09 1535.8 Q1565.7 1531.15 1566.88 1529.81 Q1569.12 1527.28 1570 1525.55 Q1570.91 1523.79 1570.91 1522.1 Q1570.91 1519.34 1568.96 1517.61 Q1567.04 1515.87 1563.94 1515.87 Q1561.74 1515.87 1559.29 1516.63 Q1556.85 1517.4 1554.08 1518.95 L1554.08 1514.23 Q1556.9 1513.09 1559.35 1512.51 Q1561.81 1511.93 1563.85 1511.93 Q1569.22 1511.93 1572.41 1514.62 Q1575.6 1517.31 1575.6 1521.8 Q1575.6 1523.93 1574.79 1525.85 Q1574.01 1527.74 1571.9 1530.34 Q1571.32 1531.01 1568.22 1534.23 Q1565.12 1537.42 1559.47 1543.18 Z\" fill=\"#000000\" fill-rule=\"evenodd\" fill-opacity=\"1\" /><path clip-path=\"url(#clip920)\" d=\"M 0 0 M1901.42 1528.49 Q1904.77 1529.2 1906.65 1531.47 Q1908.55 1533.74 1908.55 1537.07 Q1908.55 1542.19 1905.03 1544.99 Q1901.51 1547.79 1895.03 1547.79 Q1892.85 1547.79 1890.54 1547.35 Q1888.25 1546.93 1885.79 1546.08 L1885.79 1541.56 Q1887.74 1542.7 1890.05 1543.28 Q1892.37 1543.86 1894.89 1543.86 Q1899.29 1543.86 1901.58 1542.12 Q1903.89 1540.38 1903.89 1537.07 Q1903.89 1534.02 1901.74 1532.31 Q1899.61 1530.57 1895.79 1530.57 L1891.76 1530.57 L1891.76 1526.73 L1895.98 1526.73 Q1899.43 1526.73 1901.25 1525.36 Q1903.08 1523.97 1903.08 1521.38 Q1903.08 1518.72 1901.19 1517.31 Q1899.31 1515.87 1895.79 1515.87 Q1893.87 1515.87 1891.67 1516.29 Q1889.47 1516.7 1886.83 1517.58 L1886.83 1513.42 Q1889.5 1512.68 1891.81 1512.31 Q1894.15 1511.93 1896.21 1511.93 Q1901.53 1511.93 1904.63 1514.37 Q1907.74 1516.77 1907.74 1520.89 Q1907.74 1523.76 1906.09 1525.75 Q1904.45 1527.72 1901.42 1528.49 Z\" fill=\"#000000\" fill-rule=\"evenodd\" fill-opacity=\"1\" /><path clip-path=\"url(#clip920)\" d=\"M 0 0 M2232.53 1516.63 L2220.72 1535.08 L2232.53 1535.08 L2232.53 1516.63 M2231.3 1512.56 L2237.18 1512.56 L2237.18 1535.08 L2242.11 1535.08 L2242.11 1538.97 L2237.18 1538.97 L2237.18 1547.12 L2232.53 1547.12 L2232.53 1538.97 L2216.93 1538.97 L2216.93 1534.46 L2231.3 1512.56 Z\" fill=\"#000000\" fill-rule=\"evenodd\" fill-opacity=\"1\" /><polyline clip-path=\"url(#clip922)\" style=\"stroke:#000000; stroke-width:2; stroke-opacity:0.1; fill:none\" points=\"\n",
       "  112.177,1445.72 2352.76,1445.72 \n",
       "  \"/>\n",
       "<polyline clip-path=\"url(#clip922)\" style=\"stroke:#000000; stroke-width:2; stroke-opacity:0.1; fill:none\" points=\"\n",
       "  112.177,1174.17 2352.76,1174.17 \n",
       "  \"/>\n",
       "<polyline clip-path=\"url(#clip922)\" style=\"stroke:#000000; stroke-width:2; stroke-opacity:0.1; fill:none\" points=\"\n",
       "  112.177,902.62 2352.76,902.62 \n",
       "  \"/>\n",
       "<polyline clip-path=\"url(#clip922)\" style=\"stroke:#000000; stroke-width:2; stroke-opacity:0.1; fill:none\" points=\"\n",
       "  112.177,631.072 2352.76,631.072 \n",
       "  \"/>\n",
       "<polyline clip-path=\"url(#clip922)\" style=\"stroke:#000000; stroke-width:2; stroke-opacity:0.1; fill:none\" points=\"\n",
       "  112.177,359.524 2352.76,359.524 \n",
       "  \"/>\n",
       "<polyline clip-path=\"url(#clip922)\" style=\"stroke:#000000; stroke-width:2; stroke-opacity:0.1; fill:none\" points=\"\n",
       "  112.177,87.9763 2352.76,87.9763 \n",
       "  \"/>\n",
       "<polyline clip-path=\"url(#clip920)\" style=\"stroke:#000000; stroke-width:4; stroke-opacity:1; fill:none\" points=\"\n",
       "  112.177,1486.45 112.177,47.2441 \n",
       "  \"/>\n",
       "<polyline clip-path=\"url(#clip920)\" style=\"stroke:#000000; stroke-width:4; stroke-opacity:1; fill:none\" points=\"\n",
       "  112.177,1445.72 139.064,1445.72 \n",
       "  \"/>\n",
       "<polyline clip-path=\"url(#clip920)\" style=\"stroke:#000000; stroke-width:4; stroke-opacity:1; fill:none\" points=\"\n",
       "  112.177,1174.17 139.064,1174.17 \n",
       "  \"/>\n",
       "<polyline clip-path=\"url(#clip920)\" style=\"stroke:#000000; stroke-width:4; stroke-opacity:1; fill:none\" points=\"\n",
       "  112.177,902.62 139.064,902.62 \n",
       "  \"/>\n",
       "<polyline clip-path=\"url(#clip920)\" style=\"stroke:#000000; stroke-width:4; stroke-opacity:1; fill:none\" points=\"\n",
       "  112.177,631.072 139.064,631.072 \n",
       "  \"/>\n",
       "<polyline clip-path=\"url(#clip920)\" style=\"stroke:#000000; stroke-width:4; stroke-opacity:1; fill:none\" points=\"\n",
       "  112.177,359.524 139.064,359.524 \n",
       "  \"/>\n",
       "<polyline clip-path=\"url(#clip920)\" style=\"stroke:#000000; stroke-width:4; stroke-opacity:1; fill:none\" points=\"\n",
       "  112.177,87.9763 139.064,87.9763 \n",
       "  \"/>\n",
       "<path clip-path=\"url(#clip920)\" d=\"M 0 0 M64.2328 1431.51 Q60.6217 1431.51 58.793 1435.08 Q56.9875 1438.62 56.9875 1445.75 Q56.9875 1452.86 58.793 1456.42 Q60.6217 1459.96 64.2328 1459.96 Q67.867 1459.96 69.6726 1456.42 Q71.5013 1452.86 71.5013 1445.75 Q71.5013 1438.62 69.6726 1435.08 Q67.867 1431.51 64.2328 1431.51 M64.2328 1427.81 Q70.0429 1427.81 73.0985 1432.42 Q76.1772 1437 76.1772 1445.75 Q76.1772 1454.48 73.0985 1459.08 Q70.0429 1463.67 64.2328 1463.67 Q58.4226 1463.67 55.344 1459.08 Q52.2884 1454.48 52.2884 1445.75 Q52.2884 1437 55.344 1432.42 Q58.4226 1427.81 64.2328 1427.81 Z\" fill=\"#000000\" fill-rule=\"evenodd\" fill-opacity=\"1\" /><path clip-path=\"url(#clip920)\" d=\"M 0 0 M56.2699 1187.51 L63.9087 1187.51 L63.9087 1161.15 L55.5986 1162.81 L55.5986 1158.55 L63.8624 1156.89 L68.5383 1156.89 L68.5383 1187.51 L76.1772 1187.51 L76.1772 1191.45 L56.2699 1191.45 L56.2699 1187.51 Z\" fill=\"#000000\" fill-rule=\"evenodd\" fill-opacity=\"1\" /><path clip-path=\"url(#clip920)\" d=\"M 0 0 M59.8578 915.965 L76.1772 915.965 L76.1772 919.9 L54.2328 919.9 L54.2328 915.965 Q56.8949 913.21 61.4782 908.581 Q66.0846 903.928 67.2652 902.585 Q69.5105 900.062 70.3902 898.326 Q71.2929 896.567 71.2929 894.877 Q71.2929 892.122 69.3485 890.386 Q67.4272 888.65 64.3254 888.65 Q62.1263 888.65 59.6726 889.414 Q57.2421 890.178 54.4643 891.729 L54.4643 887.007 Q57.2884 885.872 59.7421 885.294 Q62.1958 884.715 64.2328 884.715 Q69.6031 884.715 72.7976 887.4 Q75.992 890.085 75.992 894.576 Q75.992 896.706 75.1818 898.627 Q74.3948 900.525 72.2883 903.118 Q71.7096 903.789 68.6078 907.006 Q65.5059 910.201 59.8578 915.965 Z\" fill=\"#000000\" fill-rule=\"evenodd\" fill-opacity=\"1\" /><path clip-path=\"url(#clip920)\" d=\"M 0 0 M69.0476 629.718 Q72.404 630.435 74.279 632.704 Q76.1772 634.972 76.1772 638.306 Q76.1772 643.422 72.6587 646.222 Q69.1402 649.023 62.6587 649.023 Q60.4828 649.023 58.168 648.584 Q55.8764 648.167 53.4227 647.31 L53.4227 642.797 Q55.3671 643.931 57.6819 644.509 Q59.9967 645.088 62.5198 645.088 Q66.918 645.088 69.2096 643.352 Q71.5244 641.616 71.5244 638.306 Q71.5244 635.25 69.3717 633.537 Q67.242 631.801 63.4226 631.801 L59.3949 631.801 L59.3949 627.959 L63.6078 627.959 Q67.0569 627.959 68.8855 626.593 Q70.7142 625.204 70.7142 622.611 Q70.7142 619.949 68.8161 618.537 Q66.9411 617.102 63.4226 617.102 Q61.5013 617.102 59.3023 617.519 Q57.1032 617.936 54.4643 618.815 L54.4643 614.649 Q57.1264 613.908 59.4412 613.537 Q61.7791 613.167 63.8393 613.167 Q69.1633 613.167 72.2652 615.598 Q75.367 618.005 75.367 622.125 Q75.367 624.996 73.7235 626.986 Q72.08 628.954 69.0476 629.718 Z\" fill=\"#000000\" fill-rule=\"evenodd\" fill-opacity=\"1\" /><path clip-path=\"url(#clip920)\" d=\"M 0 0 M66.5939 346.318 L54.7884 364.767 L66.5939 364.767 L66.5939 346.318 M65.367 342.244 L71.2466 342.244 L71.2466 364.767 L76.1772 364.767 L76.1772 368.656 L71.2466 368.656 L71.2466 376.804 L66.5939 376.804 L66.5939 368.656 L50.9921 368.656 L50.9921 364.142 L65.367 342.244 Z\" fill=\"#000000\" fill-rule=\"evenodd\" fill-opacity=\"1\" /><path clip-path=\"url(#clip920)\" d=\"M 0 0 M55.2745 70.6963 L73.6309 70.6963 L73.6309 74.6314 L59.5569 74.6314 L59.5569 83.1036 Q60.5754 82.7564 61.5939 82.5944 Q62.6124 82.4092 63.6309 82.4092 Q69.418 82.4092 72.7976 85.5805 Q76.1772 88.7517 76.1772 94.1684 Q76.1772 99.747 72.705 102.849 Q69.2328 105.928 62.9134 105.928 Q60.7374 105.928 58.4689 105.557 Q56.2236 105.187 53.8162 104.446 L53.8162 99.747 Q55.8995 100.881 58.1217 101.437 Q60.3439 101.992 62.8208 101.992 Q66.8254 101.992 69.1633 99.8859 Q71.5013 97.7795 71.5013 94.1684 Q71.5013 90.5573 69.1633 88.4508 Q66.8254 86.3443 62.8208 86.3443 Q60.9458 86.3443 59.0708 86.761 Q57.2189 87.1777 55.2745 88.0573 L55.2745 70.6963 Z\" fill=\"#000000\" fill-rule=\"evenodd\" fill-opacity=\"1\" /><path clip-path=\"url(#clip922)\" d=\"\n",
       "M235.413 359.524 L235.413 1445.72 L900.115 1445.72 L900.115 359.524 L235.413 359.524 L235.413 359.524  Z\n",
       "  \" fill=\"#009af9\" fill-rule=\"evenodd\" fill-opacity=\"1\"/>\n",
       "<polyline clip-path=\"url(#clip922)\" style=\"stroke:#000000; stroke-width:4; stroke-opacity:1; fill:none\" points=\"\n",
       "  235.413,359.524 235.413,1445.72 900.115,1445.72 900.115,359.524 235.413,359.524 \n",
       "  \"/>\n",
       "<path clip-path=\"url(#clip922)\" d=\"\n",
       "M900.115 87.9763 L900.115 1445.72 L1564.82 1445.72 L1564.82 87.9763 L900.115 87.9763 L900.115 87.9763  Z\n",
       "  \" fill=\"#009af9\" fill-rule=\"evenodd\" fill-opacity=\"1\"/>\n",
       "<polyline clip-path=\"url(#clip922)\" style=\"stroke:#000000; stroke-width:4; stroke-opacity:1; fill:none\" points=\"\n",
       "  900.115,87.9763 900.115,1445.72 1564.82,1445.72 1564.82,87.9763 900.115,87.9763 \n",
       "  \"/>\n",
       "<path clip-path=\"url(#clip922)\" d=\"\n",
       "M1564.82 87.9763 L1564.82 1445.72 L2229.52 1445.72 L2229.52 87.9763 L1564.82 87.9763 L1564.82 87.9763  Z\n",
       "  \" fill=\"#009af9\" fill-rule=\"evenodd\" fill-opacity=\"1\"/>\n",
       "<polyline clip-path=\"url(#clip922)\" style=\"stroke:#000000; stroke-width:4; stroke-opacity:1; fill:none\" points=\"\n",
       "  1564.82,87.9763 1564.82,1445.72 2229.52,1445.72 2229.52,87.9763 1564.82,87.9763 \n",
       "  \"/>\n",
       "<path clip-path=\"url(#clip920)\" d=\"\n",
       "M1978.1 216.178 L2278.07 216.178 L2278.07 95.2176 L1978.1 95.2176  Z\n",
       "  \" fill=\"#ffffff\" fill-rule=\"evenodd\" fill-opacity=\"1\"/>\n",
       "<polyline clip-path=\"url(#clip920)\" style=\"stroke:#000000; stroke-width:4; stroke-opacity:1; fill:none\" points=\"\n",
       "  1978.1,216.178 2278.07,216.178 2278.07,95.2176 1978.1,95.2176 1978.1,216.178 \n",
       "  \"/>\n",
       "<path clip-path=\"url(#clip920)\" d=\"\n",
       "M2002.99 179.89 L2152.37 179.89 L2152.37 131.506 L2002.99 131.506 L2002.99 179.89  Z\n",
       "  \" fill=\"#009af9\" fill-rule=\"evenodd\" fill-opacity=\"1\"/>\n",
       "<polyline clip-path=\"url(#clip920)\" style=\"stroke:#000000; stroke-width:4; stroke-opacity:1; fill:none\" points=\"\n",
       "  2002.99,179.89 2152.37,179.89 2152.37,131.506 2002.99,131.506 2002.99,179.89 \n",
       "  \"/>\n",
       "<path clip-path=\"url(#clip920)\" d=\"M 0 0 M2191.1 175.385 Q2189.3 180.015 2187.59 181.427 Q2185.87 182.839 2183 182.839 L2179.6 182.839 L2179.6 179.274 L2182.1 179.274 Q2183.86 179.274 2184.83 178.44 Q2185.8 177.607 2186.98 174.505 L2187.75 172.561 L2177.26 147.052 L2181.77 147.052 L2189.88 167.329 L2197.98 147.052 L2202.49 147.052 L2191.1 175.385 Z\" fill=\"#000000\" fill-rule=\"evenodd\" fill-opacity=\"1\" /><path clip-path=\"url(#clip920)\" d=\"M 0 0 M2208.37 169.042 L2216.01 169.042 L2216.01 142.677 L2207.7 144.343 L2207.7 140.084 L2215.96 138.418 L2220.64 138.418 L2220.64 169.042 L2228.28 169.042 L2228.28 172.978 L2208.37 172.978 L2208.37 169.042 Z\" fill=\"#000000\" fill-rule=\"evenodd\" fill-opacity=\"1\" /></svg>\n"
      ]
     },
     "execution_count": 6,
     "metadata": {},
     "output_type": "execute_result"
    }
   ],
   "source": [
    "using Plots\n",
    "histogram(collect(ds[\"cloud_flag\"]))"
   ]
  },
  {
   "cell_type": "markdown",
   "id": "consecutive-league",
   "metadata": {},
   "source": [
    "Huh? This is maybe due to my unability to program in Julia."
   ]
  },
  {
   "cell_type": "code",
   "execution_count": 7,
   "id": "breeding-marble",
   "metadata": {},
   "outputs": [
    {
     "data": {
      "image/svg+xml": [
       "<?xml version=\"1.0\" encoding=\"utf-8\"?>\n",
       "<svg xmlns=\"http://www.w3.org/2000/svg\" xmlns:xlink=\"http://www.w3.org/1999/xlink\" width=\"600\" height=\"400\" viewBox=\"0 0 2400 1600\">\n",
       "<defs>\n",
       "  <clipPath id=\"clip960\">\n",
       "    <rect x=\"0\" y=\"0\" width=\"2400\" height=\"1600\"/>\n",
       "  </clipPath>\n",
       "</defs>\n",
       "<path clip-path=\"url(#clip960)\" d=\"\n",
       "M0 1600 L2400 1600 L2400 0 L0 0  Z\n",
       "  \" fill=\"#ffffff\" fill-rule=\"evenodd\" fill-opacity=\"1\"/>\n",
       "<defs>\n",
       "  <clipPath id=\"clip961\">\n",
       "    <rect x=\"480\" y=\"0\" width=\"1681\" height=\"1600\"/>\n",
       "  </clipPath>\n",
       "</defs>\n",
       "<path clip-path=\"url(#clip960)\" d=\"\n",
       "M112.177 1486.45 L2352.76 1486.45 L2352.76 47.2441 L112.177 47.2441  Z\n",
       "  \" fill=\"#ffffff\" fill-rule=\"evenodd\" fill-opacity=\"1\"/>\n",
       "<defs>\n",
       "  <clipPath id=\"clip962\">\n",
       "    <rect x=\"112\" y=\"47\" width=\"2242\" height=\"1440\"/>\n",
       "  </clipPath>\n",
       "</defs>\n",
       "<polyline clip-path=\"url(#clip962)\" style=\"stroke:#000000; stroke-width:2; stroke-opacity:0.1; fill:none\" points=\"\n",
       "  235.413,1486.45 235.413,47.2441 \n",
       "  \"/>\n",
       "<polyline clip-path=\"url(#clip962)\" style=\"stroke:#000000; stroke-width:2; stroke-opacity:0.1; fill:none\" points=\"\n",
       "  858.571,1486.45 858.571,47.2441 \n",
       "  \"/>\n",
       "<polyline clip-path=\"url(#clip962)\" style=\"stroke:#000000; stroke-width:2; stroke-opacity:0.1; fill:none\" points=\"\n",
       "  1481.73,1486.45 1481.73,47.2441 \n",
       "  \"/>\n",
       "<polyline clip-path=\"url(#clip962)\" style=\"stroke:#000000; stroke-width:2; stroke-opacity:0.1; fill:none\" points=\"\n",
       "  2104.89,1486.45 2104.89,47.2441 \n",
       "  \"/>\n",
       "<polyline clip-path=\"url(#clip960)\" style=\"stroke:#000000; stroke-width:4; stroke-opacity:1; fill:none\" points=\"\n",
       "  112.177,1486.45 2352.76,1486.45 \n",
       "  \"/>\n",
       "<polyline clip-path=\"url(#clip960)\" style=\"stroke:#000000; stroke-width:4; stroke-opacity:1; fill:none\" points=\"\n",
       "  235.413,1486.45 235.413,1469.18 \n",
       "  \"/>\n",
       "<polyline clip-path=\"url(#clip960)\" style=\"stroke:#000000; stroke-width:4; stroke-opacity:1; fill:none\" points=\"\n",
       "  858.571,1486.45 858.571,1469.18 \n",
       "  \"/>\n",
       "<polyline clip-path=\"url(#clip960)\" style=\"stroke:#000000; stroke-width:4; stroke-opacity:1; fill:none\" points=\"\n",
       "  1481.73,1486.45 1481.73,1469.18 \n",
       "  \"/>\n",
       "<polyline clip-path=\"url(#clip960)\" style=\"stroke:#000000; stroke-width:4; stroke-opacity:1; fill:none\" points=\"\n",
       "  2104.89,1486.45 2104.89,1469.18 \n",
       "  \"/>\n",
       "<path clip-path=\"url(#clip960)\" d=\"M 0 0 M207.682 1530.29 L237.357 1530.29 L237.357 1534.23 L207.682 1534.23 L207.682 1530.29 Z\" fill=\"#000000\" fill-rule=\"evenodd\" fill-opacity=\"1\" /><path clip-path=\"url(#clip960)\" d=\"M 0 0 M243.237 1543.18 L250.876 1543.18 L250.876 1516.82 L242.566 1518.49 L242.566 1514.23 L250.83 1512.56 L255.505 1512.56 L255.505 1543.18 L263.144 1543.18 L263.144 1547.12 L243.237 1547.12 L243.237 1543.18 Z\" fill=\"#000000\" fill-rule=\"evenodd\" fill-opacity=\"1\" /><path clip-path=\"url(#clip960)\" d=\"M 0 0 M858.571 1515.64 Q854.96 1515.64 853.132 1519.2 Q851.326 1522.75 851.326 1529.87 Q851.326 1536.98 853.132 1540.55 Q854.96 1544.09 858.571 1544.09 Q862.206 1544.09 864.011 1540.55 Q865.84 1536.98 865.84 1529.87 Q865.84 1522.75 864.011 1519.2 Q862.206 1515.64 858.571 1515.64 M858.571 1511.93 Q864.382 1511.93 867.437 1516.54 Q870.516 1521.12 870.516 1529.87 Q870.516 1538.6 867.437 1543.21 Q864.382 1547.79 858.571 1547.79 Q852.761 1547.79 849.683 1543.21 Q846.627 1538.6 846.627 1529.87 Q846.627 1521.12 849.683 1516.54 Q852.761 1511.93 858.571 1511.93 Z\" fill=\"#000000\" fill-rule=\"evenodd\" fill-opacity=\"1\" /><path clip-path=\"url(#clip960)\" d=\"M 0 0 M1472.11 1543.18 L1479.75 1543.18 L1479.75 1516.82 L1471.44 1518.49 L1471.44 1514.23 L1479.7 1512.56 L1484.38 1512.56 L1484.38 1543.18 L1492.02 1543.18 L1492.02 1547.12 L1472.11 1547.12 L1472.11 1543.18 Z\" fill=\"#000000\" fill-rule=\"evenodd\" fill-opacity=\"1\" /><path clip-path=\"url(#clip960)\" d=\"M 0 0 M2099.54 1543.18 L2115.86 1543.18 L2115.86 1547.12 L2093.92 1547.12 L2093.92 1543.18 Q2096.58 1540.43 2101.16 1535.8 Q2105.77 1531.15 2106.95 1529.81 Q2109.19 1527.28 2110.07 1525.55 Q2110.98 1523.79 2110.98 1522.1 Q2110.98 1519.34 2109.03 1517.61 Q2107.11 1515.87 2104.01 1515.87 Q2101.81 1515.87 2099.36 1516.63 Q2096.93 1517.4 2094.15 1518.95 L2094.15 1514.23 Q2096.97 1513.09 2099.43 1512.51 Q2101.88 1511.93 2103.92 1511.93 Q2109.29 1511.93 2112.48 1514.62 Q2115.68 1517.31 2115.68 1521.8 Q2115.68 1523.93 2114.87 1525.85 Q2114.08 1527.74 2111.97 1530.34 Q2111.39 1531.01 2108.29 1534.23 Q2105.19 1537.42 2099.54 1543.18 Z\" fill=\"#000000\" fill-rule=\"evenodd\" fill-opacity=\"1\" /><polyline clip-path=\"url(#clip962)\" style=\"stroke:#000000; stroke-width:2; stroke-opacity:0.1; fill:none\" points=\"\n",
       "  112.177,1445.72 2352.76,1445.72 \n",
       "  \"/>\n",
       "<polyline clip-path=\"url(#clip962)\" style=\"stroke:#000000; stroke-width:2; stroke-opacity:0.1; fill:none\" points=\"\n",
       "  112.177,1174.17 2352.76,1174.17 \n",
       "  \"/>\n",
       "<polyline clip-path=\"url(#clip962)\" style=\"stroke:#000000; stroke-width:2; stroke-opacity:0.1; fill:none\" points=\"\n",
       "  112.177,902.62 2352.76,902.62 \n",
       "  \"/>\n",
       "<polyline clip-path=\"url(#clip962)\" style=\"stroke:#000000; stroke-width:2; stroke-opacity:0.1; fill:none\" points=\"\n",
       "  112.177,631.072 2352.76,631.072 \n",
       "  \"/>\n",
       "<polyline clip-path=\"url(#clip962)\" style=\"stroke:#000000; stroke-width:2; stroke-opacity:0.1; fill:none\" points=\"\n",
       "  112.177,359.524 2352.76,359.524 \n",
       "  \"/>\n",
       "<polyline clip-path=\"url(#clip962)\" style=\"stroke:#000000; stroke-width:2; stroke-opacity:0.1; fill:none\" points=\"\n",
       "  112.177,87.9763 2352.76,87.9763 \n",
       "  \"/>\n",
       "<polyline clip-path=\"url(#clip960)\" style=\"stroke:#000000; stroke-width:4; stroke-opacity:1; fill:none\" points=\"\n",
       "  112.177,1486.45 112.177,47.2441 \n",
       "  \"/>\n",
       "<polyline clip-path=\"url(#clip960)\" style=\"stroke:#000000; stroke-width:4; stroke-opacity:1; fill:none\" points=\"\n",
       "  112.177,1445.72 139.064,1445.72 \n",
       "  \"/>\n",
       "<polyline clip-path=\"url(#clip960)\" style=\"stroke:#000000; stroke-width:4; stroke-opacity:1; fill:none\" points=\"\n",
       "  112.177,1174.17 139.064,1174.17 \n",
       "  \"/>\n",
       "<polyline clip-path=\"url(#clip960)\" style=\"stroke:#000000; stroke-width:4; stroke-opacity:1; fill:none\" points=\"\n",
       "  112.177,902.62 139.064,902.62 \n",
       "  \"/>\n",
       "<polyline clip-path=\"url(#clip960)\" style=\"stroke:#000000; stroke-width:4; stroke-opacity:1; fill:none\" points=\"\n",
       "  112.177,631.072 139.064,631.072 \n",
       "  \"/>\n",
       "<polyline clip-path=\"url(#clip960)\" style=\"stroke:#000000; stroke-width:4; stroke-opacity:1; fill:none\" points=\"\n",
       "  112.177,359.524 139.064,359.524 \n",
       "  \"/>\n",
       "<polyline clip-path=\"url(#clip960)\" style=\"stroke:#000000; stroke-width:4; stroke-opacity:1; fill:none\" points=\"\n",
       "  112.177,87.9763 139.064,87.9763 \n",
       "  \"/>\n",
       "<path clip-path=\"url(#clip960)\" d=\"M 0 0 M64.2328 1431.51 Q60.6217 1431.51 58.793 1435.08 Q56.9875 1438.62 56.9875 1445.75 Q56.9875 1452.86 58.793 1456.42 Q60.6217 1459.96 64.2328 1459.96 Q67.867 1459.96 69.6726 1456.42 Q71.5013 1452.86 71.5013 1445.75 Q71.5013 1438.62 69.6726 1435.08 Q67.867 1431.51 64.2328 1431.51 M64.2328 1427.81 Q70.0429 1427.81 73.0985 1432.42 Q76.1772 1437 76.1772 1445.75 Q76.1772 1454.48 73.0985 1459.08 Q70.0429 1463.67 64.2328 1463.67 Q58.4226 1463.67 55.344 1459.08 Q52.2884 1454.48 52.2884 1445.75 Q52.2884 1437 55.344 1432.42 Q58.4226 1427.81 64.2328 1427.81 Z\" fill=\"#000000\" fill-rule=\"evenodd\" fill-opacity=\"1\" /><path clip-path=\"url(#clip960)\" d=\"M 0 0 M56.2699 1187.51 L63.9087 1187.51 L63.9087 1161.15 L55.5986 1162.81 L55.5986 1158.55 L63.8624 1156.89 L68.5383 1156.89 L68.5383 1187.51 L76.1772 1187.51 L76.1772 1191.45 L56.2699 1191.45 L56.2699 1187.51 Z\" fill=\"#000000\" fill-rule=\"evenodd\" fill-opacity=\"1\" /><path clip-path=\"url(#clip960)\" d=\"M 0 0 M59.8578 915.965 L76.1772 915.965 L76.1772 919.9 L54.2328 919.9 L54.2328 915.965 Q56.8949 913.21 61.4782 908.581 Q66.0846 903.928 67.2652 902.585 Q69.5105 900.062 70.3902 898.326 Q71.2929 896.567 71.2929 894.877 Q71.2929 892.122 69.3485 890.386 Q67.4272 888.65 64.3254 888.65 Q62.1263 888.65 59.6726 889.414 Q57.2421 890.178 54.4643 891.729 L54.4643 887.007 Q57.2884 885.872 59.7421 885.294 Q62.1958 884.715 64.2328 884.715 Q69.6031 884.715 72.7976 887.4 Q75.992 890.085 75.992 894.576 Q75.992 896.706 75.1818 898.627 Q74.3948 900.525 72.2883 903.118 Q71.7096 903.789 68.6078 907.006 Q65.5059 910.201 59.8578 915.965 Z\" fill=\"#000000\" fill-rule=\"evenodd\" fill-opacity=\"1\" /><path clip-path=\"url(#clip960)\" d=\"M 0 0 M69.0476 629.718 Q72.404 630.435 74.279 632.704 Q76.1772 634.972 76.1772 638.306 Q76.1772 643.422 72.6587 646.222 Q69.1402 649.023 62.6587 649.023 Q60.4828 649.023 58.168 648.584 Q55.8764 648.167 53.4227 647.31 L53.4227 642.797 Q55.3671 643.931 57.6819 644.509 Q59.9967 645.088 62.5198 645.088 Q66.918 645.088 69.2096 643.352 Q71.5244 641.616 71.5244 638.306 Q71.5244 635.25 69.3717 633.537 Q67.242 631.801 63.4226 631.801 L59.3949 631.801 L59.3949 627.959 L63.6078 627.959 Q67.0569 627.959 68.8855 626.593 Q70.7142 625.204 70.7142 622.611 Q70.7142 619.949 68.8161 618.537 Q66.9411 617.102 63.4226 617.102 Q61.5013 617.102 59.3023 617.519 Q57.1032 617.936 54.4643 618.815 L54.4643 614.649 Q57.1264 613.908 59.4412 613.537 Q61.7791 613.167 63.8393 613.167 Q69.1633 613.167 72.2652 615.598 Q75.367 618.005 75.367 622.125 Q75.367 624.996 73.7235 626.986 Q72.08 628.954 69.0476 629.718 Z\" fill=\"#000000\" fill-rule=\"evenodd\" fill-opacity=\"1\" /><path clip-path=\"url(#clip960)\" d=\"M 0 0 M66.5939 346.318 L54.7884 364.767 L66.5939 364.767 L66.5939 346.318 M65.367 342.244 L71.2466 342.244 L71.2466 364.767 L76.1772 364.767 L76.1772 368.656 L71.2466 368.656 L71.2466 376.804 L66.5939 376.804 L66.5939 368.656 L50.9921 368.656 L50.9921 364.142 L65.367 342.244 Z\" fill=\"#000000\" fill-rule=\"evenodd\" fill-opacity=\"1\" /><path clip-path=\"url(#clip960)\" d=\"M 0 0 M55.2745 70.6963 L73.6309 70.6963 L73.6309 74.6314 L59.5569 74.6314 L59.5569 83.1036 Q60.5754 82.7564 61.5939 82.5944 Q62.6124 82.4092 63.6309 82.4092 Q69.418 82.4092 72.7976 85.5805 Q76.1772 88.7517 76.1772 94.1684 Q76.1772 99.747 72.705 102.849 Q69.2328 105.928 62.9134 105.928 Q60.7374 105.928 58.4689 105.557 Q56.2236 105.187 53.8162 104.446 L53.8162 99.747 Q55.8995 100.881 58.1217 101.437 Q60.3439 101.992 62.8208 101.992 Q66.8254 101.992 69.1633 99.8859 Q71.5013 97.7795 71.5013 94.1684 Q71.5013 90.5573 69.1633 88.4508 Q66.8254 86.3443 62.8208 86.3443 Q60.9458 86.3443 59.0708 86.761 Q57.2189 87.1777 55.2745 88.0573 L55.2745 70.6963 Z\" fill=\"#000000\" fill-rule=\"evenodd\" fill-opacity=\"1\" /><path clip-path=\"url(#clip962)\" d=\"\n",
       "M235.413 359.524 L235.413 1445.72 L360.045 1445.72 L360.045 359.524 L235.413 359.524 L235.413 359.524  Z\n",
       "  \" fill=\"#009af9\" fill-rule=\"evenodd\" fill-opacity=\"1\"/>\n",
       "<polyline clip-path=\"url(#clip962)\" style=\"stroke:#000000; stroke-width:4; stroke-opacity:1; fill:none\" points=\"\n",
       "  235.413,359.524 235.413,1445.72 360.045,1445.72 360.045,359.524 235.413,359.524 \n",
       "  \"/>\n",
       "<path clip-path=\"url(#clip962)\" d=\"\n",
       "M360.045 1445.72 L360.045 1445.72 L484.676 1445.72 L484.676 1445.72 L360.045 1445.72 L360.045 1445.72  Z\n",
       "  \" fill=\"#009af9\" fill-rule=\"evenodd\" fill-opacity=\"1\"/>\n",
       "<polyline clip-path=\"url(#clip962)\" style=\"stroke:#000000; stroke-width:4; stroke-opacity:1; fill:none\" points=\"\n",
       "  360.045,1445.72 360.045,1445.72 484.676,1445.72 360.045,1445.72 \n",
       "  \"/>\n",
       "<path clip-path=\"url(#clip962)\" d=\"\n",
       "M484.676 1445.72 L484.676 1445.72 L609.308 1445.72 L609.308 1445.72 L484.676 1445.72 L484.676 1445.72  Z\n",
       "  \" fill=\"#009af9\" fill-rule=\"evenodd\" fill-opacity=\"1\"/>\n",
       "<polyline clip-path=\"url(#clip962)\" style=\"stroke:#000000; stroke-width:4; stroke-opacity:1; fill:none\" points=\"\n",
       "  484.676,1445.72 484.676,1445.72 609.308,1445.72 484.676,1445.72 \n",
       "  \"/>\n",
       "<path clip-path=\"url(#clip962)\" d=\"\n",
       "M609.308 1445.72 L609.308 1445.72 L733.94 1445.72 L733.94 1445.72 L609.308 1445.72 L609.308 1445.72  Z\n",
       "  \" fill=\"#009af9\" fill-rule=\"evenodd\" fill-opacity=\"1\"/>\n",
       "<polyline clip-path=\"url(#clip962)\" style=\"stroke:#000000; stroke-width:4; stroke-opacity:1; fill:none\" points=\"\n",
       "  609.308,1445.72 609.308,1445.72 733.94,1445.72 609.308,1445.72 \n",
       "  \"/>\n",
       "<path clip-path=\"url(#clip962)\" d=\"\n",
       "M733.94 1445.72 L733.94 1445.72 L858.571 1445.72 L858.571 1445.72 L733.94 1445.72 L733.94 1445.72  Z\n",
       "  \" fill=\"#009af9\" fill-rule=\"evenodd\" fill-opacity=\"1\"/>\n",
       "<polyline clip-path=\"url(#clip962)\" style=\"stroke:#000000; stroke-width:4; stroke-opacity:1; fill:none\" points=\"\n",
       "  733.94,1445.72 733.94,1445.72 858.571,1445.72 733.94,1445.72 \n",
       "  \"/>\n",
       "<path clip-path=\"url(#clip962)\" d=\"\n",
       "M858.571 902.62 L858.571 1445.72 L983.203 1445.72 L983.203 902.62 L858.571 902.62 L858.571 902.62  Z\n",
       "  \" fill=\"#009af9\" fill-rule=\"evenodd\" fill-opacity=\"1\"/>\n",
       "<polyline clip-path=\"url(#clip962)\" style=\"stroke:#000000; stroke-width:4; stroke-opacity:1; fill:none\" points=\"\n",
       "  858.571,902.62 858.571,1445.72 983.203,1445.72 983.203,902.62 858.571,902.62 \n",
       "  \"/>\n",
       "<path clip-path=\"url(#clip962)\" d=\"\n",
       "M983.203 1445.72 L983.203 1445.72 L1107.83 1445.72 L1107.83 1445.72 L983.203 1445.72 L983.203 1445.72  Z\n",
       "  \" fill=\"#009af9\" fill-rule=\"evenodd\" fill-opacity=\"1\"/>\n",
       "<polyline clip-path=\"url(#clip962)\" style=\"stroke:#000000; stroke-width:4; stroke-opacity:1; fill:none\" points=\"\n",
       "  983.203,1445.72 983.203,1445.72 1107.83,1445.72 983.203,1445.72 \n",
       "  \"/>\n",
       "<path clip-path=\"url(#clip962)\" d=\"\n",
       "M1107.83 1445.72 L1107.83 1445.72 L1232.47 1445.72 L1232.47 1445.72 L1107.83 1445.72 L1107.83 1445.72  Z\n",
       "  \" fill=\"#009af9\" fill-rule=\"evenodd\" fill-opacity=\"1\"/>\n",
       "<polyline clip-path=\"url(#clip962)\" style=\"stroke:#000000; stroke-width:4; stroke-opacity:1; fill:none\" points=\"\n",
       "  1107.83,1445.72 1107.83,1445.72 1232.47,1445.72 1107.83,1445.72 \n",
       "  \"/>\n",
       "<path clip-path=\"url(#clip962)\" d=\"\n",
       "M1232.47 1445.72 L1232.47 1445.72 L1357.1 1445.72 L1357.1 1445.72 L1232.47 1445.72 L1232.47 1445.72  Z\n",
       "  \" fill=\"#009af9\" fill-rule=\"evenodd\" fill-opacity=\"1\"/>\n",
       "<polyline clip-path=\"url(#clip962)\" style=\"stroke:#000000; stroke-width:4; stroke-opacity:1; fill:none\" points=\"\n",
       "  1232.47,1445.72 1232.47,1445.72 1357.1,1445.72 1232.47,1445.72 \n",
       "  \"/>\n",
       "<path clip-path=\"url(#clip962)\" d=\"\n",
       "M1357.1 1445.72 L1357.1 1445.72 L1481.73 1445.72 L1481.73 1445.72 L1357.1 1445.72 L1357.1 1445.72  Z\n",
       "  \" fill=\"#009af9\" fill-rule=\"evenodd\" fill-opacity=\"1\"/>\n",
       "<polyline clip-path=\"url(#clip962)\" style=\"stroke:#000000; stroke-width:4; stroke-opacity:1; fill:none\" points=\"\n",
       "  1357.1,1445.72 1357.1,1445.72 1481.73,1445.72 1357.1,1445.72 \n",
       "  \"/>\n",
       "<path clip-path=\"url(#clip962)\" d=\"\n",
       "M1481.73 631.072 L1481.73 1445.72 L1606.36 1445.72 L1606.36 631.072 L1481.73 631.072 L1481.73 631.072  Z\n",
       "  \" fill=\"#009af9\" fill-rule=\"evenodd\" fill-opacity=\"1\"/>\n",
       "<polyline clip-path=\"url(#clip962)\" style=\"stroke:#000000; stroke-width:4; stroke-opacity:1; fill:none\" points=\"\n",
       "  1481.73,631.072 1481.73,1445.72 1606.36,1445.72 1606.36,631.072 1481.73,631.072 \n",
       "  \"/>\n",
       "<path clip-path=\"url(#clip962)\" d=\"\n",
       "M1606.36 1445.72 L1606.36 1445.72 L1730.99 1445.72 L1730.99 1445.72 L1606.36 1445.72 L1606.36 1445.72  Z\n",
       "  \" fill=\"#009af9\" fill-rule=\"evenodd\" fill-opacity=\"1\"/>\n",
       "<polyline clip-path=\"url(#clip962)\" style=\"stroke:#000000; stroke-width:4; stroke-opacity:1; fill:none\" points=\"\n",
       "  1606.36,1445.72 1606.36,1445.72 1730.99,1445.72 1606.36,1445.72 \n",
       "  \"/>\n",
       "<path clip-path=\"url(#clip962)\" d=\"\n",
       "M1730.99 1445.72 L1730.99 1445.72 L1855.63 1445.72 L1855.63 1445.72 L1730.99 1445.72 L1730.99 1445.72  Z\n",
       "  \" fill=\"#009af9\" fill-rule=\"evenodd\" fill-opacity=\"1\"/>\n",
       "<polyline clip-path=\"url(#clip962)\" style=\"stroke:#000000; stroke-width:4; stroke-opacity:1; fill:none\" points=\"\n",
       "  1730.99,1445.72 1730.99,1445.72 1855.63,1445.72 1730.99,1445.72 \n",
       "  \"/>\n",
       "<path clip-path=\"url(#clip962)\" d=\"\n",
       "M1855.63 1445.72 L1855.63 1445.72 L1980.26 1445.72 L1980.26 1445.72 L1855.63 1445.72 L1855.63 1445.72  Z\n",
       "  \" fill=\"#009af9\" fill-rule=\"evenodd\" fill-opacity=\"1\"/>\n",
       "<polyline clip-path=\"url(#clip962)\" style=\"stroke:#000000; stroke-width:4; stroke-opacity:1; fill:none\" points=\"\n",
       "  1855.63,1445.72 1855.63,1445.72 1980.26,1445.72 1855.63,1445.72 \n",
       "  \"/>\n",
       "<path clip-path=\"url(#clip962)\" d=\"\n",
       "M1980.26 1445.72 L1980.26 1445.72 L2104.89 1445.72 L2104.89 1445.72 L1980.26 1445.72 L1980.26 1445.72  Z\n",
       "  \" fill=\"#009af9\" fill-rule=\"evenodd\" fill-opacity=\"1\"/>\n",
       "<polyline clip-path=\"url(#clip962)\" style=\"stroke:#000000; stroke-width:4; stroke-opacity:1; fill:none\" points=\"\n",
       "  1980.26,1445.72 1980.26,1445.72 2104.89,1445.72 1980.26,1445.72 \n",
       "  \"/>\n",
       "<path clip-path=\"url(#clip962)\" d=\"\n",
       "M2104.89 87.9763 L2104.89 1445.72 L2229.52 1445.72 L2229.52 87.9763 L2104.89 87.9763 L2104.89 87.9763  Z\n",
       "  \" fill=\"#009af9\" fill-rule=\"evenodd\" fill-opacity=\"1\"/>\n",
       "<polyline clip-path=\"url(#clip962)\" style=\"stroke:#000000; stroke-width:4; stroke-opacity:1; fill:none\" points=\"\n",
       "  2104.89,87.9763 2104.89,1445.72 2229.52,1445.72 2229.52,87.9763 2104.89,87.9763 \n",
       "  \"/>\n",
       "<path clip-path=\"url(#clip960)\" d=\"\n",
       "M1978.1 216.178 L2278.07 216.178 L2278.07 95.2176 L1978.1 95.2176  Z\n",
       "  \" fill=\"#ffffff\" fill-rule=\"evenodd\" fill-opacity=\"1\"/>\n",
       "<polyline clip-path=\"url(#clip960)\" style=\"stroke:#000000; stroke-width:4; stroke-opacity:1; fill:none\" points=\"\n",
       "  1978.1,216.178 2278.07,216.178 2278.07,95.2176 1978.1,95.2176 1978.1,216.178 \n",
       "  \"/>\n",
       "<path clip-path=\"url(#clip960)\" d=\"\n",
       "M2002.99 179.89 L2152.37 179.89 L2152.37 131.506 L2002.99 131.506 L2002.99 179.89  Z\n",
       "  \" fill=\"#009af9\" fill-rule=\"evenodd\" fill-opacity=\"1\"/>\n",
       "<polyline clip-path=\"url(#clip960)\" style=\"stroke:#000000; stroke-width:4; stroke-opacity:1; fill:none\" points=\"\n",
       "  2002.99,179.89 2152.37,179.89 2152.37,131.506 2002.99,131.506 2002.99,179.89 \n",
       "  \"/>\n",
       "<path clip-path=\"url(#clip960)\" d=\"M 0 0 M2191.1 175.385 Q2189.3 180.015 2187.59 181.427 Q2185.87 182.839 2183 182.839 L2179.6 182.839 L2179.6 179.274 L2182.1 179.274 Q2183.86 179.274 2184.83 178.44 Q2185.8 177.607 2186.98 174.505 L2187.75 172.561 L2177.26 147.052 L2181.77 147.052 L2189.88 167.329 L2197.98 147.052 L2202.49 147.052 L2191.1 175.385 Z\" fill=\"#000000\" fill-rule=\"evenodd\" fill-opacity=\"1\" /><path clip-path=\"url(#clip960)\" d=\"M 0 0 M2208.37 169.042 L2216.01 169.042 L2216.01 142.677 L2207.7 144.343 L2207.7 140.084 L2215.96 138.418 L2220.64 138.418 L2220.64 169.042 L2228.28 169.042 L2228.28 172.978 L2208.37 172.978 L2208.37 169.042 Z\" fill=\"#000000\" fill-rule=\"evenodd\" fill-opacity=\"1\" /></svg>\n"
      ]
     },
     "execution_count": 7,
     "metadata": {},
     "output_type": "execute_result"
    }
   ],
   "source": [
    "histogram(collect(ds[\"cloud_flag\"]); bins=length(ds[\"cloud_flag\"]))"
   ]
  }
 ],
 "metadata": {
  "kernelspec": {
   "display_name": "Julia 1.5.3",
   "language": "julia",
   "name": "julia-1.5"
  },
  "language_info": {
   "file_extension": ".jl",
   "mimetype": "application/julia",
   "name": "julia",
   "version": "1.5.3"
  }
 },
 "nbformat": 4,
 "nbformat_minor": 5
}
